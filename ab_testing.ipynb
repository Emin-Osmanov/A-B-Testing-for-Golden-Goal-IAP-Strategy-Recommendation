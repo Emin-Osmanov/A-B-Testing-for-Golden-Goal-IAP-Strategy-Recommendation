{
 "cells": [
  {
   "cell_type": "markdown",
   "metadata": {},
   "source": [
    "<h1 align=\"center\"> Analysis of the \"Golden Goal\" IAP Strategies </h1>"
   ]
  },
  {
   "cell_type": "markdown",
   "metadata": {},
   "source": [
    "<div>\n",
    "    <h2>Table of Contents</h2>\n",
    "    <ul>\n",
    "        <li><a href=\"#introduction\">Introduction</a></li>\n",
    "        <li><a href=\"#data-set-preparation\">Data Set Preparation</a>\n",
    "            <ul>\n",
    "                <li><a href=\"#data-cleaning\">Data Cleaning</a></li>\n",
    "                <li><a href=\"#merging-datasets\">Merging Datasets</a></li>\n",
    "                <li><a href=\"#feature-engineering\">Feature Engineering</a></li>\n",
    "                <li><a href=\"#dataframe-overview\">Dataframe Overview</a></li>\n",
    "            </ul>\n",
    "        </li>\n",
    "        <li><a href=\"#exploratory-data-analysis\">Exploratory Data Analysis</a>\n",
    "            <ul>\n",
    "                <li><a href=\"#user-engagement\">User Engagement</a></li>\n",
    "                <li><a href=\"#purchasing-behavior\">Purchasing Behavior</a></li>\n",
    "            </ul>\n",
    "        </li>\n",
    "        <li><a href=\"#statistical-analysis\">Statistical Analysis</a></li>\n",
    "        <li><a href=\"#summary-of-results\">Summary of the Results</a></li>\n",
    "    </ul>\n",
    "</div>"
   ]
  },
  {
   "cell_type": "markdown",
   "metadata": {},
   "source": [
    "<style>\n",
    ".anchor-tag {\n",
    "    display: block;\n",
    "    position: relative;\n",
    "    top: -100px;\n",
    "    visibility: hidden;\n",
    "}\n",
    "</style>\n",
    "\n",
    "<a id=\"introduction\" class=\"anchor-tag\"></a>\n",
    "<h1>Introduction</h1>"
   ]
  },
  {
   "cell_type": "markdown",
   "metadata": {},
   "source": [
    "This report involves analyzing data from an A/B test in a mobile game, focusing on a product called Golden Goal. The test divided users into three groups: a control group with regular pricing and rewards, and two test groups, one with reduced pricing and regular rewards, and another with regular pricing but increased rewards. The task is to determine whether to maintain or alter the pricing and rewards of Golden Goal IAP. The goal is to provide insights, recommendations, and statistical evidence regarding the pricing and rewards of Golden Goal."
   ]
  },
  {
   "cell_type": "code",
   "execution_count": 1,
   "metadata": {},
   "outputs": [],
   "source": [
    "# Import required libraries\n",
    "import pandas as pd\n",
    "import matplotlib.pyplot as plt\n",
    "import seaborn as sns\n",
    "import numpy as np\n",
    "from scipy import stats\n",
    "from scipy.stats import shapiro, levene, f_oneway\n",
    "from statsmodels.stats.multicomp import pairwise_tukeyhsd\n"
   ]
  },
  {
   "cell_type": "markdown",
   "metadata": {},
   "source": [
    "<style>\n",
    ".anchor-tag {\n",
    "    display: block;\n",
    "    position: relative;\n",
    "    top: -100px;\n",
    "    visibility: hidden;\n",
    "}\n",
    "</style>\n",
    "\n",
    "<a id=\"data-set-preparation\" class=\"anchor-tag\"></a>\n",
    "<h1>Data Set Preparation</h1>"
   ]
  },
  {
   "cell_type": "markdown",
   "metadata": {},
   "source": [
    "<style>\n",
    ".anchor-tag {\n",
    "    display: block;\n",
    "    position: relative;\n",
    "    top: -100px;\n",
    "    visibility: hidden;\n",
    "}\n",
    "</style>\n",
    "\n",
    "<a id=\"data-cleaning\" class=\"anchor-tag\"></a>\n",
    "<h2>Data Cleaning</h2>"
   ]
  },
  {
   "cell_type": "code",
   "execution_count": 2,
   "metadata": {},
   "outputs": [
    {
     "data": {
      "text/html": [
       "<div>\n",
       "<style scoped>\n",
       "    .dataframe tbody tr th:only-of-type {\n",
       "        vertical-align: middle;\n",
       "    }\n",
       "\n",
       "    .dataframe tbody tr th {\n",
       "        vertical-align: top;\n",
       "    }\n",
       "\n",
       "    .dataframe thead th {\n",
       "        text-align: right;\n",
       "    }\n",
       "</style>\n",
       "<table border=\"1\" class=\"dataframe\">\n",
       "  <thead>\n",
       "    <tr style=\"text-align: right;\">\n",
       "      <th></th>\n",
       "      <th>dateActivity</th>\n",
       "      <th>abTestGroup</th>\n",
       "      <th>platform</th>\n",
       "      <th>countryCode</th>\n",
       "      <th>userId</th>\n",
       "    </tr>\n",
       "  </thead>\n",
       "  <tbody>\n",
       "    <tr>\n",
       "      <th>0</th>\n",
       "      <td>2019-12-02</td>\n",
       "      <td>test_group_2</td>\n",
       "      <td>Android</td>\n",
       "      <td>DE</td>\n",
       "      <td>i1impn4wxiuzilf</td>\n",
       "    </tr>\n",
       "    <tr>\n",
       "      <th>1</th>\n",
       "      <td>2019-12-10</td>\n",
       "      <td>test_group_1</td>\n",
       "      <td>Android</td>\n",
       "      <td>BR</td>\n",
       "      <td>o6t4n67wbgf1de4</td>\n",
       "    </tr>\n",
       "    <tr>\n",
       "      <th>2</th>\n",
       "      <td>2019-12-07</td>\n",
       "      <td>test_group_2</td>\n",
       "      <td>Android</td>\n",
       "      <td>IR</td>\n",
       "      <td>tjymyplb3uieesy</td>\n",
       "    </tr>\n",
       "    <tr>\n",
       "      <th>3</th>\n",
       "      <td>2019-12-07</td>\n",
       "      <td>control_group</td>\n",
       "      <td>Android</td>\n",
       "      <td>IT</td>\n",
       "      <td>dwar5ttp07awa0n</td>\n",
       "    </tr>\n",
       "    <tr>\n",
       "      <th>4</th>\n",
       "      <td>2019-12-06</td>\n",
       "      <td>test_group_2</td>\n",
       "      <td>Android</td>\n",
       "      <td>IT</td>\n",
       "      <td>vd5skmb26bwapmo</td>\n",
       "    </tr>\n",
       "  </tbody>\n",
       "</table>\n",
       "</div>"
      ],
      "text/plain": [
       "  dateActivity    abTestGroup platform countryCode           userId\n",
       "0   2019-12-02   test_group_2  Android          DE  i1impn4wxiuzilf\n",
       "1   2019-12-10   test_group_1  Android          BR  o6t4n67wbgf1de4\n",
       "2   2019-12-07   test_group_2  Android          IR  tjymyplb3uieesy\n",
       "3   2019-12-07  control_group  Android          IT  dwar5ttp07awa0n\n",
       "4   2019-12-06   test_group_2  Android          IT  vd5skmb26bwapmo"
      ]
     },
     "execution_count": 2,
     "metadata": {},
     "output_type": "execute_result"
    }
   ],
   "source": [
    "# Load the data from the daily activity CSV file\n",
    "df_dau = pd.read_csv(\"data_daily_activity.csv\")\n",
    "\n",
    "# Display the first few rows of the dataframe \n",
    "df_dau.head()"
   ]
  },
  {
   "cell_type": "code",
   "execution_count": 3,
   "metadata": {},
   "outputs": [
    {
     "data": {
      "text/html": [
       "<div>\n",
       "<style scoped>\n",
       "    .dataframe tbody tr th:only-of-type {\n",
       "        vertical-align: middle;\n",
       "    }\n",
       "\n",
       "    .dataframe tbody tr th {\n",
       "        vertical-align: top;\n",
       "    }\n",
       "\n",
       "    .dataframe thead th {\n",
       "        text-align: right;\n",
       "    }\n",
       "</style>\n",
       "<table border=\"1\" class=\"dataframe\">\n",
       "  <thead>\n",
       "    <tr style=\"text-align: right;\">\n",
       "      <th></th>\n",
       "      <th>productId</th>\n",
       "      <th>dateActivity</th>\n",
       "      <th>cost</th>\n",
       "      <th>userId</th>\n",
       "    </tr>\n",
       "  </thead>\n",
       "  <tbody>\n",
       "    <tr>\n",
       "      <th>0</th>\n",
       "      <td>goldenspin</td>\n",
       "      <td>2019-12-10</td>\n",
       "      <td>1.99</td>\n",
       "      <td>otn5zom1ix8nj5k</td>\n",
       "    </tr>\n",
       "    <tr>\n",
       "      <th>1</th>\n",
       "      <td>endlessmatch</td>\n",
       "      <td>2019-12-02</td>\n",
       "      <td>1.99</td>\n",
       "      <td>m88jn740nhhic7s</td>\n",
       "    </tr>\n",
       "    <tr>\n",
       "      <th>2</th>\n",
       "      <td>specialpack26</td>\n",
       "      <td>2019-12-07</td>\n",
       "      <td>1.99</td>\n",
       "      <td>w90ri1qu1pk5d8f</td>\n",
       "    </tr>\n",
       "    <tr>\n",
       "      <th>3</th>\n",
       "      <td>specialpack26</td>\n",
       "      <td>2019-12-03</td>\n",
       "      <td>1.99</td>\n",
       "      <td>06ikm3ve8kec8v8</td>\n",
       "    </tr>\n",
       "    <tr>\n",
       "      <th>4</th>\n",
       "      <td>goldenspin</td>\n",
       "      <td>2019-12-03</td>\n",
       "      <td>1.99</td>\n",
       "      <td>omob080pkev7jqw</td>\n",
       "    </tr>\n",
       "  </tbody>\n",
       "</table>\n",
       "</div>"
      ],
      "text/plain": [
       "       productId dateActivity  cost           userId\n",
       "0     goldenspin   2019-12-10  1.99  otn5zom1ix8nj5k\n",
       "1   endlessmatch   2019-12-02  1.99  m88jn740nhhic7s\n",
       "2  specialpack26   2019-12-07  1.99  w90ri1qu1pk5d8f\n",
       "3  specialpack26   2019-12-03  1.99  06ikm3ve8kec8v8\n",
       "4     goldenspin   2019-12-03  1.99  omob080pkev7jqw"
      ]
     },
     "execution_count": 3,
     "metadata": {},
     "output_type": "execute_result"
    }
   ],
   "source": [
    "# Load the data from the in-app purchases CSV file\n",
    "df_iap = pd.read_csv(\"data_in_app_purchases.csv\")\n",
    "\n",
    "# Display the first few rows of the dataframe\n",
    "df_iap.head()"
   ]
  },
  {
   "cell_type": "code",
   "execution_count": 4,
   "metadata": {},
   "outputs": [
    {
     "data": {
      "text/plain": [
       "dateActivity    0\n",
       "abTestGroup     0\n",
       "platform        0\n",
       "countryCode     5\n",
       "userId          0\n",
       "dtype: int64"
      ]
     },
     "execution_count": 4,
     "metadata": {},
     "output_type": "execute_result"
    }
   ],
   "source": [
    "# Check for missing values\n",
    "df_dau.isnull().sum()\n"
   ]
  },
  {
   "cell_type": "code",
   "execution_count": 5,
   "metadata": {},
   "outputs": [
    {
     "data": {
      "text/plain": [
       "dateActivity    0.000000\n",
       "abTestGroup     0.000000\n",
       "platform        0.000000\n",
       "countryCode     0.000801\n",
       "userId          0.000000\n",
       "dtype: float64"
      ]
     },
     "execution_count": 5,
     "metadata": {},
     "output_type": "execute_result"
    }
   ],
   "source": [
    "# Find the percentage of the null values\n",
    "df_dau.isnull().sum() / len(df_dau) * 100"
   ]
  },
  {
   "cell_type": "markdown",
   "metadata": {},
   "source": [
    "Since the percentage of the null values is very low, we will drop these values."
   ]
  },
  {
   "cell_type": "code",
   "execution_count": 6,
   "metadata": {},
   "outputs": [],
   "source": [
    "# Dropping rows with missing 'countryCode' in activity data\n",
    "df_dau = df_dau.dropna(subset=['countryCode'])"
   ]
  },
  {
   "cell_type": "code",
   "execution_count": 7,
   "metadata": {},
   "outputs": [
    {
     "data": {
      "text/plain": [
       "dateActivity    object\n",
       "abTestGroup     object\n",
       "platform        object\n",
       "countryCode     object\n",
       "userId          object\n",
       "dtype: object"
      ]
     },
     "execution_count": 7,
     "metadata": {},
     "output_type": "execute_result"
    }
   ],
   "source": [
    "# Show the data types\n",
    "df_dau.dtypes"
   ]
  },
  {
   "cell_type": "code",
   "execution_count": 8,
   "metadata": {},
   "outputs": [
    {
     "data": {
      "text/plain": [
       "dateActivity    datetime64[ns]\n",
       "abTestGroup             object\n",
       "platform                object\n",
       "countryCode             object\n",
       "userId                  object\n",
       "dtype: object"
      ]
     },
     "execution_count": 8,
     "metadata": {},
     "output_type": "execute_result"
    }
   ],
   "source": [
    "# Converting 'dateActivity' to datetime format\n",
    "df_dau['dateActivity'] = pd.to_datetime(df_dau['dateActivity'])\n",
    "df_dau.dtypes"
   ]
  },
  {
   "cell_type": "code",
   "execution_count": 9,
   "metadata": {},
   "outputs": [
    {
     "data": {
      "text/plain": [
       "productId         0\n",
       "dateActivity      0\n",
       "cost            142\n",
       "userId            0\n",
       "dtype: int64"
      ]
     },
     "execution_count": 9,
     "metadata": {},
     "output_type": "execute_result"
    }
   ],
   "source": [
    "df_iap.isnull().sum()"
   ]
  },
  {
   "cell_type": "markdown",
   "metadata": {},
   "source": [
    "Since there is no null values in the 'productId' column, we can fill in the null values in the 'cost' variable by calculating the mean 'cost' for each product."
   ]
  },
  {
   "cell_type": "code",
   "execution_count": 10,
   "metadata": {},
   "outputs": [
    {
     "data": {
      "text/plain": [
       "productId       0\n",
       "dateActivity    0\n",
       "cost            0\n",
       "userId          0\n",
       "dtype: int64"
      ]
     },
     "execution_count": 10,
     "metadata": {},
     "output_type": "execute_result"
    }
   ],
   "source": [
    "# Grouping the dataset by 'productId' and calculating the mean cost for each product\n",
    "mean_cost_per_product = df_iap.groupby('productId')['cost'].mean()\n",
    "\n",
    "# Filling the null values\n",
    "df_iap['cost'] = df_iap.apply(lambda row: mean_cost_per_product[row['productId']] if pd.isnull(row['cost']) else row['cost'], axis=1)\n",
    "df_iap.isnull().sum()\n"
   ]
  },
  {
   "cell_type": "code",
   "execution_count": 11,
   "metadata": {},
   "outputs": [
    {
     "data": {
      "text/plain": [
       "productId        object\n",
       "dateActivity     object\n",
       "cost            float64\n",
       "userId           object\n",
       "dtype: object"
      ]
     },
     "execution_count": 11,
     "metadata": {},
     "output_type": "execute_result"
    }
   ],
   "source": [
    "df_iap.dtypes"
   ]
  },
  {
   "cell_type": "code",
   "execution_count": 12,
   "metadata": {},
   "outputs": [],
   "source": [
    "# Converting 'dateActivity' to datetime format\n",
    "df_iap['dateActivity'] = pd.to_datetime(df_iap['dateActivity'])\n"
   ]
  },
  {
   "cell_type": "code",
   "execution_count": 13,
   "metadata": {},
   "outputs": [
    {
     "data": {
      "text/plain": [
       "array(['goldenspin', 'endlessmatch', 'specialpack26', 'specialpack9',\n",
       "       'specialspin00', 'specialpack23', 'specialpack10', 'goldengoalb',\n",
       "       'starterpack', 'specialpack7', 'coinspack2', 'lfc1_20',\n",
       "       'scratcherspack1', 'coinspack1', 'specialpack5', 'specialpack',\n",
       "       'buckspack3', 'superstarup', 'buckspack1', 'instantteamupgrade1',\n",
       "       'vippackweekly', 'veteran', 'goldengoal', 'coinspack3',\n",
       "       'barcelona2_20', 'tottenham1_20', 'benfica1', 'sponsorship1',\n",
       "       'veteranup', 'promocoinspack4', 'promocoinspack1',\n",
       "       'promobuckspack7', 'penaltyrushentrypromo', 'superstarup2',\n",
       "       'buckspack2', 'specialpack21', 'specialpack4', 'barcelona1_20',\n",
       "       'tottenham2_20', 'specialpack12', 'buckspack4', 'dortmund2_20',\n",
       "       'superstar', 'lfc2_18', 'sponsorship3', 'promobuckspack3',\n",
       "       'barcelona1_19', 'dortmund1_20', 'promocoinspack8',\n",
       "       'instantteamupgrade2', 'lfc2_19', 'sponsorship2',\n",
       "       'promocoinspack2', 'coinspack4', 'promocoinspack7',\n",
       "       'manchesterc1_20', 'dortmund1_19', 'teama1', 'benfica3',\n",
       "       'promocoinspack3', 'promobuckspack2', 'porto1', 'specialpack29',\n",
       "       'lfc2_20', 'specialpack28', 'dortmund1', 'promocoinspack5',\n",
       "       'specialpack22', 'coinspack5', 'tottenham1_19', 'sporting1',\n",
       "       'manchesterc2_20', 'buckspack5', 'specialpack31', 'benfica2',\n",
       "       'coinspack6', 'specialpack30', 'lfc1_19', 'sporting2_17',\n",
       "       'tottenham3_19', 'promobuckspack4', 'promocoinspack9',\n",
       "       'renewsponsorship2', 'promobuckspack5', 'promocoinspack10',\n",
       "       'manchesterc1', 'promocoinspack6', 'promobuckspack6',\n",
       "       'tottenham2_19', 'teama2', 'lfc1_18', 'buckspack6', 'lfc3_18',\n",
       "       'barcelona2_19', 'dortmund3_19'], dtype=object)"
      ]
     },
     "execution_count": 13,
     "metadata": {},
     "output_type": "execute_result"
    }
   ],
   "source": [
    "# Checking how many values in productId column\n",
    "df_iap['productId'].unique()"
   ]
  },
  {
   "cell_type": "markdown",
   "metadata": {},
   "source": [
    "From the code above we can identify that there is a similar to our targeted variable product named 'goldengoalb'. This can affect the performance results of the targeted variable 'goldengoal' . Thus, we need to check the values of the other columns within the 'goldengoalb' product, to confirm whether or not 'goldengoal' is the same as 'goldengoalb'."
   ]
  },
  {
   "cell_type": "code",
   "execution_count": 14,
   "metadata": {},
   "outputs": [
    {
     "data": {
      "text/html": [
       "<div>\n",
       "<style scoped>\n",
       "    .dataframe tbody tr th:only-of-type {\n",
       "        vertical-align: middle;\n",
       "    }\n",
       "\n",
       "    .dataframe tbody tr th {\n",
       "        vertical-align: top;\n",
       "    }\n",
       "\n",
       "    .dataframe thead th {\n",
       "        text-align: right;\n",
       "    }\n",
       "</style>\n",
       "<table border=\"1\" class=\"dataframe\">\n",
       "  <thead>\n",
       "    <tr style=\"text-align: right;\">\n",
       "      <th></th>\n",
       "      <th>productId</th>\n",
       "      <th>dateActivity</th>\n",
       "      <th>cost</th>\n",
       "      <th>userId</th>\n",
       "    </tr>\n",
       "  </thead>\n",
       "  <tbody>\n",
       "    <tr>\n",
       "      <th>12</th>\n",
       "      <td>goldengoalb</td>\n",
       "      <td>2019-12-05</td>\n",
       "      <td>0.99</td>\n",
       "      <td>xykpb876h4y0e8u</td>\n",
       "    </tr>\n",
       "    <tr>\n",
       "      <th>21</th>\n",
       "      <td>goldengoalb</td>\n",
       "      <td>2019-12-14</td>\n",
       "      <td>0.99</td>\n",
       "      <td>sa5hxfw56v4pdee</td>\n",
       "    </tr>\n",
       "    <tr>\n",
       "      <th>38</th>\n",
       "      <td>goldengoalb</td>\n",
       "      <td>2019-12-02</td>\n",
       "      <td>0.99</td>\n",
       "      <td>7jgrv6znuh47xfn</td>\n",
       "    </tr>\n",
       "    <tr>\n",
       "      <th>40</th>\n",
       "      <td>goldengoalb</td>\n",
       "      <td>2019-12-07</td>\n",
       "      <td>0.99</td>\n",
       "      <td>oo8qwcrgm1ry20y</td>\n",
       "    </tr>\n",
       "    <tr>\n",
       "      <th>60</th>\n",
       "      <td>goldengoalb</td>\n",
       "      <td>2019-12-03</td>\n",
       "      <td>0.99</td>\n",
       "      <td>iki7jcry5z6aqc0</td>\n",
       "    </tr>\n",
       "    <tr>\n",
       "      <th>...</th>\n",
       "      <td>...</td>\n",
       "      <td>...</td>\n",
       "      <td>...</td>\n",
       "      <td>...</td>\n",
       "    </tr>\n",
       "    <tr>\n",
       "      <th>26251</th>\n",
       "      <td>goldengoalb</td>\n",
       "      <td>2019-12-08</td>\n",
       "      <td>0.99</td>\n",
       "      <td>so07vn9ktm38o89</td>\n",
       "    </tr>\n",
       "    <tr>\n",
       "      <th>26253</th>\n",
       "      <td>goldengoalb</td>\n",
       "      <td>2019-12-07</td>\n",
       "      <td>0.99</td>\n",
       "      <td>8utz9f3ez8w33fc</td>\n",
       "    </tr>\n",
       "    <tr>\n",
       "      <th>26262</th>\n",
       "      <td>goldengoalb</td>\n",
       "      <td>2019-12-03</td>\n",
       "      <td>0.99</td>\n",
       "      <td>6maxv10tstiuyw9</td>\n",
       "    </tr>\n",
       "    <tr>\n",
       "      <th>26270</th>\n",
       "      <td>goldengoalb</td>\n",
       "      <td>2019-12-06</td>\n",
       "      <td>0.99</td>\n",
       "      <td>g0w6w8niifmsltc</td>\n",
       "    </tr>\n",
       "    <tr>\n",
       "      <th>26387</th>\n",
       "      <td>goldengoalb</td>\n",
       "      <td>2019-12-05</td>\n",
       "      <td>0.99</td>\n",
       "      <td>jx1n0hzieezwjc6</td>\n",
       "    </tr>\n",
       "  </tbody>\n",
       "</table>\n",
       "<p>2102 rows × 4 columns</p>\n",
       "</div>"
      ],
      "text/plain": [
       "         productId dateActivity  cost           userId\n",
       "12     goldengoalb   2019-12-05  0.99  xykpb876h4y0e8u\n",
       "21     goldengoalb   2019-12-14  0.99  sa5hxfw56v4pdee\n",
       "38     goldengoalb   2019-12-02  0.99  7jgrv6znuh47xfn\n",
       "40     goldengoalb   2019-12-07  0.99  oo8qwcrgm1ry20y\n",
       "60     goldengoalb   2019-12-03  0.99  iki7jcry5z6aqc0\n",
       "...            ...          ...   ...              ...\n",
       "26251  goldengoalb   2019-12-08  0.99  so07vn9ktm38o89\n",
       "26253  goldengoalb   2019-12-07  0.99  8utz9f3ez8w33fc\n",
       "26262  goldengoalb   2019-12-03  0.99  6maxv10tstiuyw9\n",
       "26270  goldengoalb   2019-12-06  0.99  g0w6w8niifmsltc\n",
       "26387  goldengoalb   2019-12-05  0.99  jx1n0hzieezwjc6\n",
       "\n",
       "[2102 rows x 4 columns]"
      ]
     },
     "execution_count": 14,
     "metadata": {},
     "output_type": "execute_result"
    }
   ],
   "source": [
    "# Checking the 'goldengoalb' rows\n",
    "df_iap.loc[df_iap['productId'] == 'goldengoalb']"
   ]
  },
  {
   "cell_type": "markdown",
   "metadata": {},
   "source": [
    "Now we can confirm that 'goldengoal' and 'goldengoalb' are indeed the same products ('goldengoalb' being the reduced price policy). To avoid any inaccuracies in the strategy recommendation, we will bear in mind that 'goldengoalb' is the reduced price for the Test Group 1, when merging the datasets."
   ]
  },
  {
   "cell_type": "markdown",
   "metadata": {},
   "source": [
    "<style>\n",
    ".anchor-tag {\n",
    "    display: block;\n",
    "    position: relative;\n",
    "    top: -100px;\n",
    "    visibility: hidden;\n",
    "}\n",
    "</style>\n",
    "\n",
    "<a id=\"merging-datasets\" class=\"anchor-tag\"></a>\n",
    "<h2>Merging Datasets</h2>"
   ]
  },
  {
   "cell_type": "markdown",
   "metadata": {},
   "source": [
    "Since a significant number of users are logging in more than once a day, and some are making multiple purchases a day, we need to merge these two datasets so that a user's multiple logins or purchases are not being counted as separate events. This could lead to inaccuracies in the strategy recommendation. Thus, we will aggregate each dataset at the user-day level before merging."
   ]
  },
  {
   "cell_type": "code",
   "execution_count": 15,
   "metadata": {},
   "outputs": [
    {
     "data": {
      "text/html": [
       "<div>\n",
       "<style scoped>\n",
       "    .dataframe tbody tr th:only-of-type {\n",
       "        vertical-align: middle;\n",
       "    }\n",
       "\n",
       "    .dataframe tbody tr th {\n",
       "        vertical-align: top;\n",
       "    }\n",
       "\n",
       "    .dataframe thead th {\n",
       "        text-align: right;\n",
       "    }\n",
       "</style>\n",
       "<table border=\"1\" class=\"dataframe\">\n",
       "  <thead>\n",
       "    <tr style=\"text-align: right;\">\n",
       "      <th></th>\n",
       "      <th>userId</th>\n",
       "      <th>dateActivity</th>\n",
       "      <th>abTestGroup</th>\n",
       "      <th>platform</th>\n",
       "      <th>countryCode</th>\n",
       "    </tr>\n",
       "  </thead>\n",
       "  <tbody>\n",
       "    <tr>\n",
       "      <th>0</th>\n",
       "      <td>001e5d3vldrvz6b</td>\n",
       "      <td>2019-12-02</td>\n",
       "      <td>control_group</td>\n",
       "      <td>iOS</td>\n",
       "      <td>US</td>\n",
       "    </tr>\n",
       "    <tr>\n",
       "      <th>1</th>\n",
       "      <td>001e5d3vldrvz6b</td>\n",
       "      <td>2019-12-03</td>\n",
       "      <td>control_group</td>\n",
       "      <td>iOS</td>\n",
       "      <td>US</td>\n",
       "    </tr>\n",
       "    <tr>\n",
       "      <th>2</th>\n",
       "      <td>001e5d3vldrvz6b</td>\n",
       "      <td>2019-12-04</td>\n",
       "      <td>control_group</td>\n",
       "      <td>iOS</td>\n",
       "      <td>US</td>\n",
       "    </tr>\n",
       "    <tr>\n",
       "      <th>3</th>\n",
       "      <td>001e5d3vldrvz6b</td>\n",
       "      <td>2019-12-05</td>\n",
       "      <td>control_group</td>\n",
       "      <td>iOS</td>\n",
       "      <td>US</td>\n",
       "    </tr>\n",
       "    <tr>\n",
       "      <th>4</th>\n",
       "      <td>001e5d3vldrvz6b</td>\n",
       "      <td>2019-12-06</td>\n",
       "      <td>control_group</td>\n",
       "      <td>iOS</td>\n",
       "      <td>US</td>\n",
       "    </tr>\n",
       "    <tr>\n",
       "      <th>...</th>\n",
       "      <td>...</td>\n",
       "      <td>...</td>\n",
       "      <td>...</td>\n",
       "      <td>...</td>\n",
       "      <td>...</td>\n",
       "    </tr>\n",
       "    <tr>\n",
       "      <th>291500</th>\n",
       "      <td>zzzd0fyrrw8o82f</td>\n",
       "      <td>2019-12-11</td>\n",
       "      <td>test_group_1</td>\n",
       "      <td>iOS</td>\n",
       "      <td>IT</td>\n",
       "    </tr>\n",
       "    <tr>\n",
       "      <th>291501</th>\n",
       "      <td>zzzd0fyrrw8o82f</td>\n",
       "      <td>2019-12-12</td>\n",
       "      <td>test_group_1</td>\n",
       "      <td>iOS</td>\n",
       "      <td>IT</td>\n",
       "    </tr>\n",
       "    <tr>\n",
       "      <th>291502</th>\n",
       "      <td>zzzd0fyrrw8o82f</td>\n",
       "      <td>2019-12-13</td>\n",
       "      <td>test_group_1</td>\n",
       "      <td>iOS</td>\n",
       "      <td>IT</td>\n",
       "    </tr>\n",
       "    <tr>\n",
       "      <th>291503</th>\n",
       "      <td>zzzd0fyrrw8o82f</td>\n",
       "      <td>2019-12-15</td>\n",
       "      <td>test_group_1</td>\n",
       "      <td>iOS</td>\n",
       "      <td>IT</td>\n",
       "    </tr>\n",
       "    <tr>\n",
       "      <th>291504</th>\n",
       "      <td>zzzf3aket3v633k</td>\n",
       "      <td>2019-12-15</td>\n",
       "      <td>test_group_2</td>\n",
       "      <td>Android</td>\n",
       "      <td>KZ</td>\n",
       "    </tr>\n",
       "  </tbody>\n",
       "</table>\n",
       "<p>291505 rows × 5 columns</p>\n",
       "</div>"
      ],
      "text/plain": [
       "                 userId dateActivity    abTestGroup platform countryCode\n",
       "0       001e5d3vldrvz6b   2019-12-02  control_group      iOS          US\n",
       "1       001e5d3vldrvz6b   2019-12-03  control_group      iOS          US\n",
       "2       001e5d3vldrvz6b   2019-12-04  control_group      iOS          US\n",
       "3       001e5d3vldrvz6b   2019-12-05  control_group      iOS          US\n",
       "4       001e5d3vldrvz6b   2019-12-06  control_group      iOS          US\n",
       "...                 ...          ...            ...      ...         ...\n",
       "291500  zzzd0fyrrw8o82f   2019-12-11   test_group_1      iOS          IT\n",
       "291501  zzzd0fyrrw8o82f   2019-12-12   test_group_1      iOS          IT\n",
       "291502  zzzd0fyrrw8o82f   2019-12-13   test_group_1      iOS          IT\n",
       "291503  zzzd0fyrrw8o82f   2019-12-15   test_group_1      iOS          IT\n",
       "291504  zzzf3aket3v633k   2019-12-15   test_group_2  Android          KZ\n",
       "\n",
       "[291505 rows x 5 columns]"
      ]
     },
     "execution_count": 15,
     "metadata": {},
     "output_type": "execute_result"
    }
   ],
   "source": [
    "# Aggregating daily activity data\n",
    "df_dau = df_dau.groupby(['userId', 'dateActivity']).agg(\n",
    "    abTestGroup=('abTestGroup', 'first'),\n",
    "    platform=('platform', 'first'),\n",
    "    countryCode=('countryCode', 'first')\n",
    ").reset_index()\n",
    "\n",
    "df_dau"
   ]
  },
  {
   "cell_type": "code",
   "execution_count": 16,
   "metadata": {},
   "outputs": [
    {
     "data": {
      "text/html": [
       "<div>\n",
       "<style scoped>\n",
       "    .dataframe tbody tr th:only-of-type {\n",
       "        vertical-align: middle;\n",
       "    }\n",
       "\n",
       "    .dataframe tbody tr th {\n",
       "        vertical-align: top;\n",
       "    }\n",
       "\n",
       "    .dataframe thead th {\n",
       "        text-align: right;\n",
       "    }\n",
       "</style>\n",
       "<table border=\"1\" class=\"dataframe\">\n",
       "  <thead>\n",
       "    <tr style=\"text-align: right;\">\n",
       "      <th></th>\n",
       "      <th>userId</th>\n",
       "      <th>dateActivity</th>\n",
       "      <th>products</th>\n",
       "      <th>total_cost</th>\n",
       "    </tr>\n",
       "  </thead>\n",
       "  <tbody>\n",
       "    <tr>\n",
       "      <th>0</th>\n",
       "      <td>00fnh3xm3dcyws2</td>\n",
       "      <td>2019-12-02</td>\n",
       "      <td>[goldenspin, goldenspin, goldenspin]</td>\n",
       "      <td>5.97</td>\n",
       "    </tr>\n",
       "    <tr>\n",
       "      <th>1</th>\n",
       "      <td>00fnh3xm3dcyws2</td>\n",
       "      <td>2019-12-03</td>\n",
       "      <td>[goldenspin, goldenspin, goldenspin, goldenspi...</td>\n",
       "      <td>13.93</td>\n",
       "    </tr>\n",
       "    <tr>\n",
       "      <th>2</th>\n",
       "      <td>00fnh3xm3dcyws2</td>\n",
       "      <td>2019-12-06</td>\n",
       "      <td>[goldengoal, goldenspin]</td>\n",
       "      <td>3.98</td>\n",
       "    </tr>\n",
       "    <tr>\n",
       "      <th>3</th>\n",
       "      <td>00fnh3xm3dcyws2</td>\n",
       "      <td>2019-12-08</td>\n",
       "      <td>[goldengoal]</td>\n",
       "      <td>1.99</td>\n",
       "    </tr>\n",
       "    <tr>\n",
       "      <th>4</th>\n",
       "      <td>00fnh3xm3dcyws2</td>\n",
       "      <td>2019-12-09</td>\n",
       "      <td>[goldenspin, goldenspin, goldenspin]</td>\n",
       "      <td>5.97</td>\n",
       "    </tr>\n",
       "    <tr>\n",
       "      <th>...</th>\n",
       "      <td>...</td>\n",
       "      <td>...</td>\n",
       "      <td>...</td>\n",
       "      <td>...</td>\n",
       "    </tr>\n",
       "    <tr>\n",
       "      <th>14767</th>\n",
       "      <td>zzlpf27p84rfdis</td>\n",
       "      <td>2019-12-11</td>\n",
       "      <td>[goldengoal, goldenspin, goldengoal, goldenspin]</td>\n",
       "      <td>7.96</td>\n",
       "    </tr>\n",
       "    <tr>\n",
       "      <th>14768</th>\n",
       "      <td>zzlpf27p84rfdis</td>\n",
       "      <td>2019-12-13</td>\n",
       "      <td>[goldenspin, specialpack7, goldenspin, goldens...</td>\n",
       "      <td>19.91</td>\n",
       "    </tr>\n",
       "    <tr>\n",
       "      <th>14769</th>\n",
       "      <td>zzlpf27p84rfdis</td>\n",
       "      <td>2019-12-14</td>\n",
       "      <td>[goldenspin, specialpack7, goldenspin, goldens...</td>\n",
       "      <td>21.90</td>\n",
       "    </tr>\n",
       "    <tr>\n",
       "      <th>14770</th>\n",
       "      <td>zzsy0da17p7jy0x</td>\n",
       "      <td>2019-12-13</td>\n",
       "      <td>[specialpack5]</td>\n",
       "      <td>1.99</td>\n",
       "    </tr>\n",
       "    <tr>\n",
       "      <th>14771</th>\n",
       "      <td>zzv4ulwyq4ydv60</td>\n",
       "      <td>2019-12-03</td>\n",
       "      <td>[specialpack26, specialpack23]</td>\n",
       "      <td>9.98</td>\n",
       "    </tr>\n",
       "  </tbody>\n",
       "</table>\n",
       "<p>14772 rows × 4 columns</p>\n",
       "</div>"
      ],
      "text/plain": [
       "                userId dateActivity  \\\n",
       "0      00fnh3xm3dcyws2   2019-12-02   \n",
       "1      00fnh3xm3dcyws2   2019-12-03   \n",
       "2      00fnh3xm3dcyws2   2019-12-06   \n",
       "3      00fnh3xm3dcyws2   2019-12-08   \n",
       "4      00fnh3xm3dcyws2   2019-12-09   \n",
       "...                ...          ...   \n",
       "14767  zzlpf27p84rfdis   2019-12-11   \n",
       "14768  zzlpf27p84rfdis   2019-12-13   \n",
       "14769  zzlpf27p84rfdis   2019-12-14   \n",
       "14770  zzsy0da17p7jy0x   2019-12-13   \n",
       "14771  zzv4ulwyq4ydv60   2019-12-03   \n",
       "\n",
       "                                                products  total_cost  \n",
       "0                   [goldenspin, goldenspin, goldenspin]        5.97  \n",
       "1      [goldenspin, goldenspin, goldenspin, goldenspi...       13.93  \n",
       "2                               [goldengoal, goldenspin]        3.98  \n",
       "3                                           [goldengoal]        1.99  \n",
       "4                   [goldenspin, goldenspin, goldenspin]        5.97  \n",
       "...                                                  ...         ...  \n",
       "14767   [goldengoal, goldenspin, goldengoal, goldenspin]        7.96  \n",
       "14768  [goldenspin, specialpack7, goldenspin, goldens...       19.91  \n",
       "14769  [goldenspin, specialpack7, goldenspin, goldens...       21.90  \n",
       "14770                                     [specialpack5]        1.99  \n",
       "14771                     [specialpack26, specialpack23]        9.98  \n",
       "\n",
       "[14772 rows x 4 columns]"
      ]
     },
     "execution_count": 16,
     "metadata": {},
     "output_type": "execute_result"
    }
   ],
   "source": [
    "# Aggregating in-app purchase data\n",
    "df_iap = df_iap.groupby(['userId', 'dateActivity']).agg(\n",
    "    products=('productId', lambda x: list(x)),\n",
    "    total_cost=('cost', 'sum')\n",
    ").reset_index()\n",
    "\n",
    "df_iap"
   ]
  },
  {
   "cell_type": "code",
   "execution_count": 17,
   "metadata": {},
   "outputs": [
    {
     "data": {
      "text/plain": [
       "(291505, 7)"
      ]
     },
     "execution_count": 17,
     "metadata": {},
     "output_type": "execute_result"
    }
   ],
   "source": [
    "# Merging the entire daily activity data with the in-app purchases data \n",
    "df = pd.merge(df_dau, df_iap, on=['userId', 'dateActivity'], how='left')\n",
    "df.shape"
   ]
  },
  {
   "cell_type": "code",
   "execution_count": 18,
   "metadata": {},
   "outputs": [
    {
     "data": {
      "text/html": [
       "<div>\n",
       "<style scoped>\n",
       "    .dataframe tbody tr th:only-of-type {\n",
       "        vertical-align: middle;\n",
       "    }\n",
       "\n",
       "    .dataframe tbody tr th {\n",
       "        vertical-align: top;\n",
       "    }\n",
       "\n",
       "    .dataframe thead th {\n",
       "        text-align: right;\n",
       "    }\n",
       "</style>\n",
       "<table border=\"1\" class=\"dataframe\">\n",
       "  <thead>\n",
       "    <tr style=\"text-align: right;\">\n",
       "      <th></th>\n",
       "      <th>userId</th>\n",
       "      <th>dateActivity</th>\n",
       "      <th>abTestGroup</th>\n",
       "      <th>platform</th>\n",
       "      <th>countryCode</th>\n",
       "      <th>products</th>\n",
       "      <th>total_cost</th>\n",
       "    </tr>\n",
       "  </thead>\n",
       "  <tbody>\n",
       "    <tr>\n",
       "      <th>0</th>\n",
       "      <td>001e5d3vldrvz6b</td>\n",
       "      <td>2019-12-02</td>\n",
       "      <td>control_group</td>\n",
       "      <td>iOS</td>\n",
       "      <td>US</td>\n",
       "      <td>NaN</td>\n",
       "      <td>NaN</td>\n",
       "    </tr>\n",
       "    <tr>\n",
       "      <th>1</th>\n",
       "      <td>001e5d3vldrvz6b</td>\n",
       "      <td>2019-12-03</td>\n",
       "      <td>control_group</td>\n",
       "      <td>iOS</td>\n",
       "      <td>US</td>\n",
       "      <td>NaN</td>\n",
       "      <td>NaN</td>\n",
       "    </tr>\n",
       "    <tr>\n",
       "      <th>2</th>\n",
       "      <td>001e5d3vldrvz6b</td>\n",
       "      <td>2019-12-04</td>\n",
       "      <td>control_group</td>\n",
       "      <td>iOS</td>\n",
       "      <td>US</td>\n",
       "      <td>NaN</td>\n",
       "      <td>NaN</td>\n",
       "    </tr>\n",
       "    <tr>\n",
       "      <th>3</th>\n",
       "      <td>001e5d3vldrvz6b</td>\n",
       "      <td>2019-12-05</td>\n",
       "      <td>control_group</td>\n",
       "      <td>iOS</td>\n",
       "      <td>US</td>\n",
       "      <td>NaN</td>\n",
       "      <td>NaN</td>\n",
       "    </tr>\n",
       "    <tr>\n",
       "      <th>4</th>\n",
       "      <td>001e5d3vldrvz6b</td>\n",
       "      <td>2019-12-06</td>\n",
       "      <td>control_group</td>\n",
       "      <td>iOS</td>\n",
       "      <td>US</td>\n",
       "      <td>NaN</td>\n",
       "      <td>NaN</td>\n",
       "    </tr>\n",
       "    <tr>\n",
       "      <th>...</th>\n",
       "      <td>...</td>\n",
       "      <td>...</td>\n",
       "      <td>...</td>\n",
       "      <td>...</td>\n",
       "      <td>...</td>\n",
       "      <td>...</td>\n",
       "      <td>...</td>\n",
       "    </tr>\n",
       "    <tr>\n",
       "      <th>291500</th>\n",
       "      <td>zzzd0fyrrw8o82f</td>\n",
       "      <td>2019-12-11</td>\n",
       "      <td>test_group_1</td>\n",
       "      <td>iOS</td>\n",
       "      <td>IT</td>\n",
       "      <td>NaN</td>\n",
       "      <td>NaN</td>\n",
       "    </tr>\n",
       "    <tr>\n",
       "      <th>291501</th>\n",
       "      <td>zzzd0fyrrw8o82f</td>\n",
       "      <td>2019-12-12</td>\n",
       "      <td>test_group_1</td>\n",
       "      <td>iOS</td>\n",
       "      <td>IT</td>\n",
       "      <td>NaN</td>\n",
       "      <td>NaN</td>\n",
       "    </tr>\n",
       "    <tr>\n",
       "      <th>291502</th>\n",
       "      <td>zzzd0fyrrw8o82f</td>\n",
       "      <td>2019-12-13</td>\n",
       "      <td>test_group_1</td>\n",
       "      <td>iOS</td>\n",
       "      <td>IT</td>\n",
       "      <td>NaN</td>\n",
       "      <td>NaN</td>\n",
       "    </tr>\n",
       "    <tr>\n",
       "      <th>291503</th>\n",
       "      <td>zzzd0fyrrw8o82f</td>\n",
       "      <td>2019-12-15</td>\n",
       "      <td>test_group_1</td>\n",
       "      <td>iOS</td>\n",
       "      <td>IT</td>\n",
       "      <td>NaN</td>\n",
       "      <td>NaN</td>\n",
       "    </tr>\n",
       "    <tr>\n",
       "      <th>291504</th>\n",
       "      <td>zzzf3aket3v633k</td>\n",
       "      <td>2019-12-15</td>\n",
       "      <td>test_group_2</td>\n",
       "      <td>Android</td>\n",
       "      <td>KZ</td>\n",
       "      <td>NaN</td>\n",
       "      <td>NaN</td>\n",
       "    </tr>\n",
       "  </tbody>\n",
       "</table>\n",
       "<p>291505 rows × 7 columns</p>\n",
       "</div>"
      ],
      "text/plain": [
       "                 userId dateActivity    abTestGroup platform countryCode  \\\n",
       "0       001e5d3vldrvz6b   2019-12-02  control_group      iOS          US   \n",
       "1       001e5d3vldrvz6b   2019-12-03  control_group      iOS          US   \n",
       "2       001e5d3vldrvz6b   2019-12-04  control_group      iOS          US   \n",
       "3       001e5d3vldrvz6b   2019-12-05  control_group      iOS          US   \n",
       "4       001e5d3vldrvz6b   2019-12-06  control_group      iOS          US   \n",
       "...                 ...          ...            ...      ...         ...   \n",
       "291500  zzzd0fyrrw8o82f   2019-12-11   test_group_1      iOS          IT   \n",
       "291501  zzzd0fyrrw8o82f   2019-12-12   test_group_1      iOS          IT   \n",
       "291502  zzzd0fyrrw8o82f   2019-12-13   test_group_1      iOS          IT   \n",
       "291503  zzzd0fyrrw8o82f   2019-12-15   test_group_1      iOS          IT   \n",
       "291504  zzzf3aket3v633k   2019-12-15   test_group_2  Android          KZ   \n",
       "\n",
       "       products  total_cost  \n",
       "0           NaN         NaN  \n",
       "1           NaN         NaN  \n",
       "2           NaN         NaN  \n",
       "3           NaN         NaN  \n",
       "4           NaN         NaN  \n",
       "...         ...         ...  \n",
       "291500      NaN         NaN  \n",
       "291501      NaN         NaN  \n",
       "291502      NaN         NaN  \n",
       "291503      NaN         NaN  \n",
       "291504      NaN         NaN  \n",
       "\n",
       "[291505 rows x 7 columns]"
      ]
     },
     "execution_count": 18,
     "metadata": {},
     "output_type": "execute_result"
    }
   ],
   "source": [
    "df"
   ]
  },
  {
   "cell_type": "markdown",
   "metadata": {},
   "source": [
    "Null values in 'products' and 'total_cost' represent rows with users that logged in and did not buy any products."
   ]
  },
  {
   "cell_type": "markdown",
   "metadata": {},
   "source": [
    "<style>\n",
    ".anchor-tag {\n",
    "    display: block;\n",
    "    position: relative;\n",
    "    top: -100px;\n",
    "    visibility: hidden;\n",
    "}\n",
    "</style>\n",
    "\n",
    "<a id=\"feature-engineering\" class=\"anchor-tag\"></a>\n",
    "<h2>Feature Engineering</h2>"
   ]
  },
  {
   "cell_type": "markdown",
   "metadata": {},
   "source": [
    "Our analysis will focus mainly on the Golden Goal IAP, therefore we will add columns with information about that IAP."
   ]
  },
  {
   "cell_type": "code",
   "execution_count": 19,
   "metadata": {},
   "outputs": [],
   "source": [
    "# Creating a function to count the daily number of purchases for 'goldengoal' and 'goldengoalb'\n",
    "def count_purchases(row):\n",
    "    count = 0\n",
    "    if isinstance(row['products'], list):\n",
    "        count += row['products'].count('goldengoal')\n",
    "        count += row['products'].count('goldengoalb')\n",
    "    return count\n",
    "\n",
    "# Applying it to df\n",
    "df['goldengoal_purchases'] = df.apply(count_purchases, axis=1)"
   ]
  },
  {
   "cell_type": "markdown",
   "metadata": {},
   "source": [
    "As you can see we counted for both 'goldengoal' and 'goldengoalb' products as they are the same IAPs, 'goldengoalb' being the reduced price policy for Golden Goal IAP."
   ]
  },
  {
   "cell_type": "code",
   "execution_count": 20,
   "metadata": {},
   "outputs": [
    {
     "data": {
      "text/html": [
       "<div>\n",
       "<style scoped>\n",
       "    .dataframe tbody tr th:only-of-type {\n",
       "        vertical-align: middle;\n",
       "    }\n",
       "\n",
       "    .dataframe tbody tr th {\n",
       "        vertical-align: top;\n",
       "    }\n",
       "\n",
       "    .dataframe thead th {\n",
       "        text-align: right;\n",
       "    }\n",
       "</style>\n",
       "<table border=\"1\" class=\"dataframe\">\n",
       "  <thead>\n",
       "    <tr style=\"text-align: right;\">\n",
       "      <th></th>\n",
       "      <th>userId</th>\n",
       "      <th>dateActivity</th>\n",
       "      <th>abTestGroup</th>\n",
       "      <th>platform</th>\n",
       "      <th>countryCode</th>\n",
       "      <th>products</th>\n",
       "      <th>total_cost</th>\n",
       "      <th>goldengoal_purchases</th>\n",
       "      <th>goldengoal_revenue</th>\n",
       "    </tr>\n",
       "  </thead>\n",
       "  <tbody>\n",
       "    <tr>\n",
       "      <th>0</th>\n",
       "      <td>001e5d3vldrvz6b</td>\n",
       "      <td>2019-12-02</td>\n",
       "      <td>control_group</td>\n",
       "      <td>iOS</td>\n",
       "      <td>US</td>\n",
       "      <td>NaN</td>\n",
       "      <td>NaN</td>\n",
       "      <td>0</td>\n",
       "      <td>0.0</td>\n",
       "    </tr>\n",
       "    <tr>\n",
       "      <th>1</th>\n",
       "      <td>001e5d3vldrvz6b</td>\n",
       "      <td>2019-12-03</td>\n",
       "      <td>control_group</td>\n",
       "      <td>iOS</td>\n",
       "      <td>US</td>\n",
       "      <td>NaN</td>\n",
       "      <td>NaN</td>\n",
       "      <td>0</td>\n",
       "      <td>0.0</td>\n",
       "    </tr>\n",
       "    <tr>\n",
       "      <th>2</th>\n",
       "      <td>001e5d3vldrvz6b</td>\n",
       "      <td>2019-12-04</td>\n",
       "      <td>control_group</td>\n",
       "      <td>iOS</td>\n",
       "      <td>US</td>\n",
       "      <td>NaN</td>\n",
       "      <td>NaN</td>\n",
       "      <td>0</td>\n",
       "      <td>0.0</td>\n",
       "    </tr>\n",
       "    <tr>\n",
       "      <th>3</th>\n",
       "      <td>001e5d3vldrvz6b</td>\n",
       "      <td>2019-12-05</td>\n",
       "      <td>control_group</td>\n",
       "      <td>iOS</td>\n",
       "      <td>US</td>\n",
       "      <td>NaN</td>\n",
       "      <td>NaN</td>\n",
       "      <td>0</td>\n",
       "      <td>0.0</td>\n",
       "    </tr>\n",
       "    <tr>\n",
       "      <th>4</th>\n",
       "      <td>001e5d3vldrvz6b</td>\n",
       "      <td>2019-12-06</td>\n",
       "      <td>control_group</td>\n",
       "      <td>iOS</td>\n",
       "      <td>US</td>\n",
       "      <td>NaN</td>\n",
       "      <td>NaN</td>\n",
       "      <td>0</td>\n",
       "      <td>0.0</td>\n",
       "    </tr>\n",
       "  </tbody>\n",
       "</table>\n",
       "</div>"
      ],
      "text/plain": [
       "            userId dateActivity    abTestGroup platform countryCode products  \\\n",
       "0  001e5d3vldrvz6b   2019-12-02  control_group      iOS          US      NaN   \n",
       "1  001e5d3vldrvz6b   2019-12-03  control_group      iOS          US      NaN   \n",
       "2  001e5d3vldrvz6b   2019-12-04  control_group      iOS          US      NaN   \n",
       "3  001e5d3vldrvz6b   2019-12-05  control_group      iOS          US      NaN   \n",
       "4  001e5d3vldrvz6b   2019-12-06  control_group      iOS          US      NaN   \n",
       "\n",
       "   total_cost  goldengoal_purchases  goldengoal_revenue  \n",
       "0         NaN                     0                 0.0  \n",
       "1         NaN                     0                 0.0  \n",
       "2         NaN                     0                 0.0  \n",
       "3         NaN                     0                 0.0  \n",
       "4         NaN                     0                 0.0  "
      ]
     },
     "execution_count": 20,
     "metadata": {},
     "output_type": "execute_result"
    }
   ],
   "source": [
    "# Creating a function to calculate the cost based on Golden Goal IAP\n",
    "def calculate_cost(row):\n",
    "    if isinstance(row['products'], list):\n",
    "        if 'goldengoal' in row['products']:\n",
    "            return row['products'].count('goldengoal') * 1.99\n",
    "        elif 'goldengoalb' in row['products']:\n",
    "            # 'goldengoalb' is always in test group 1 with a price of 0.99\n",
    "            return row['products'].count('goldengoalb') * 0.99\n",
    "    return 0\n",
    "\n",
    "# Applying it to df\n",
    "df['goldengoal_revenue'] = df.apply(calculate_cost, axis=1)\n",
    "df.head()"
   ]
  },
  {
   "cell_type": "markdown",
   "metadata": {},
   "source": [
    "Now, let's deal with the 'goldengoal' and 'goldengoalb' product case. We will check if there are any 'goldengoal' products purchased by a user that is in Test Group 1."
   ]
  },
  {
   "cell_type": "code",
   "execution_count": 21,
   "metadata": {},
   "outputs": [
    {
     "data": {
      "text/html": [
       "<div>\n",
       "<style scoped>\n",
       "    .dataframe tbody tr th:only-of-type {\n",
       "        vertical-align: middle;\n",
       "    }\n",
       "\n",
       "    .dataframe tbody tr th {\n",
       "        vertical-align: top;\n",
       "    }\n",
       "\n",
       "    .dataframe thead th {\n",
       "        text-align: right;\n",
       "    }\n",
       "</style>\n",
       "<table border=\"1\" class=\"dataframe\">\n",
       "  <thead>\n",
       "    <tr style=\"text-align: right;\">\n",
       "      <th></th>\n",
       "      <th>userId</th>\n",
       "      <th>dateActivity</th>\n",
       "      <th>abTestGroup</th>\n",
       "      <th>platform</th>\n",
       "      <th>countryCode</th>\n",
       "      <th>products</th>\n",
       "      <th>total_cost</th>\n",
       "      <th>goldengoal_purchases</th>\n",
       "      <th>goldengoal_revenue</th>\n",
       "    </tr>\n",
       "  </thead>\n",
       "  <tbody>\n",
       "    <tr>\n",
       "      <th>209204</th>\n",
       "      <td>pwunem4w19sy6k0</td>\n",
       "      <td>2019-12-14</td>\n",
       "      <td>test_group_1</td>\n",
       "      <td>iOS</td>\n",
       "      <td>FR</td>\n",
       "      <td>[scratcherspack1, goldengoal, goldengoal, gold...</td>\n",
       "      <td>9.95</td>\n",
       "      <td>4</td>\n",
       "      <td>7.96</td>\n",
       "    </tr>\n",
       "    <tr>\n",
       "      <th>266366</th>\n",
       "      <td>wxmlddv5t88vvr5</td>\n",
       "      <td>2019-12-07</td>\n",
       "      <td>test_group_1</td>\n",
       "      <td>iOS</td>\n",
       "      <td>US</td>\n",
       "      <td>[goldengoal, goldengoal]</td>\n",
       "      <td>3.98</td>\n",
       "      <td>2</td>\n",
       "      <td>3.98</td>\n",
       "    </tr>\n",
       "  </tbody>\n",
       "</table>\n",
       "</div>"
      ],
      "text/plain": [
       "                 userId dateActivity   abTestGroup platform countryCode  \\\n",
       "209204  pwunem4w19sy6k0   2019-12-14  test_group_1      iOS          FR   \n",
       "266366  wxmlddv5t88vvr5   2019-12-07  test_group_1      iOS          US   \n",
       "\n",
       "                                                 products  total_cost  \\\n",
       "209204  [scratcherspack1, goldengoal, goldengoal, gold...        9.95   \n",
       "266366                           [goldengoal, goldengoal]        3.98   \n",
       "\n",
       "        goldengoal_purchases  goldengoal_revenue  \n",
       "209204                     4                7.96  \n",
       "266366                     2                3.98  "
      ]
     },
     "execution_count": 21,
     "metadata": {},
     "output_type": "execute_result"
    }
   ],
   "source": [
    "# Displaying instances for Test Group 1 users with the 'goldengoal' product\n",
    "df[\n",
    "    (df['abTestGroup'] == 'test_group_1') & \n",
    "    df['products'].apply(lambda x: 'goldengoal' in x if isinstance(x, list) else False)\n",
    "]"
   ]
  },
  {
   "cell_type": "markdown",
   "metadata": {},
   "source": [
    "To make our results accurate we will adjust the revenue from the Golden Goal IAP of these instances in accordance with its reduced price."
   ]
  },
  {
   "cell_type": "code",
   "execution_count": 22,
   "metadata": {},
   "outputs": [],
   "source": [
    "# Adjusting the revenue for 'goldengoal' in Test Group 1 by reducing it by $1.00\n",
    "# Assuming each 'goldengoal' purchase in Test Group 1 is actually 'goldengoalb'\n",
    "def adjust_revenue(row):\n",
    "    if row['abTestGroup'] == 'test_group_1' and isinstance(row['products'], list) and 'goldengoal' in row['products']:\n",
    "        return row['goldengoal_revenue'] - row['products'].count('goldengoal') * 1.00\n",
    "    else:\n",
    "        return row['goldengoal_revenue']\n",
    "\n",
    "df['goldengoal_revenue'] = df.apply(adjust_revenue, axis=1)"
   ]
  },
  {
   "cell_type": "code",
   "execution_count": 23,
   "metadata": {},
   "outputs": [
    {
     "data": {
      "text/html": [
       "<div>\n",
       "<style scoped>\n",
       "    .dataframe tbody tr th:only-of-type {\n",
       "        vertical-align: middle;\n",
       "    }\n",
       "\n",
       "    .dataframe tbody tr th {\n",
       "        vertical-align: top;\n",
       "    }\n",
       "\n",
       "    .dataframe thead th {\n",
       "        text-align: right;\n",
       "    }\n",
       "</style>\n",
       "<table border=\"1\" class=\"dataframe\">\n",
       "  <thead>\n",
       "    <tr style=\"text-align: right;\">\n",
       "      <th></th>\n",
       "      <th>userId</th>\n",
       "      <th>dateActivity</th>\n",
       "      <th>abTestGroup</th>\n",
       "      <th>platform</th>\n",
       "      <th>countryCode</th>\n",
       "      <th>products</th>\n",
       "      <th>total_cost</th>\n",
       "      <th>goldengoal_purchases</th>\n",
       "      <th>goldengoal_revenue</th>\n",
       "    </tr>\n",
       "  </thead>\n",
       "  <tbody>\n",
       "    <tr>\n",
       "      <th>209204</th>\n",
       "      <td>pwunem4w19sy6k0</td>\n",
       "      <td>2019-12-14</td>\n",
       "      <td>test_group_1</td>\n",
       "      <td>iOS</td>\n",
       "      <td>FR</td>\n",
       "      <td>[scratcherspack1, goldengoal, goldengoal, gold...</td>\n",
       "      <td>9.95</td>\n",
       "      <td>4</td>\n",
       "      <td>3.96</td>\n",
       "    </tr>\n",
       "    <tr>\n",
       "      <th>266366</th>\n",
       "      <td>wxmlddv5t88vvr5</td>\n",
       "      <td>2019-12-07</td>\n",
       "      <td>test_group_1</td>\n",
       "      <td>iOS</td>\n",
       "      <td>US</td>\n",
       "      <td>[goldengoal, goldengoal]</td>\n",
       "      <td>3.98</td>\n",
       "      <td>2</td>\n",
       "      <td>1.98</td>\n",
       "    </tr>\n",
       "  </tbody>\n",
       "</table>\n",
       "</div>"
      ],
      "text/plain": [
       "                 userId dateActivity   abTestGroup platform countryCode  \\\n",
       "209204  pwunem4w19sy6k0   2019-12-14  test_group_1      iOS          FR   \n",
       "266366  wxmlddv5t88vvr5   2019-12-07  test_group_1      iOS          US   \n",
       "\n",
       "                                                 products  total_cost  \\\n",
       "209204  [scratcherspack1, goldengoal, goldengoal, gold...        9.95   \n",
       "266366                           [goldengoal, goldengoal]        3.98   \n",
       "\n",
       "        goldengoal_purchases  goldengoal_revenue  \n",
       "209204                     4                3.96  \n",
       "266366                     2                1.98  "
      ]
     },
     "execution_count": 23,
     "metadata": {},
     "output_type": "execute_result"
    }
   ],
   "source": [
    "# Rechecking instances \n",
    "df[\n",
    "    (df['abTestGroup'] == 'test_group_1') & \n",
    "    df['products'].apply(lambda x: 'goldengoal' in x if isinstance(x, list) else False)\n",
    "]"
   ]
  },
  {
   "cell_type": "markdown",
   "metadata": {},
   "source": [
    "Before proceeding to the analysis, we will check if there are any users in Test Group 1 that purchased both 'goldengoal' and 'goldengoalb' products."
   ]
  },
  {
   "cell_type": "code",
   "execution_count": 24,
   "metadata": {},
   "outputs": [
    {
     "data": {
      "text/html": [
       "<div>\n",
       "<style scoped>\n",
       "    .dataframe tbody tr th:only-of-type {\n",
       "        vertical-align: middle;\n",
       "    }\n",
       "\n",
       "    .dataframe tbody tr th {\n",
       "        vertical-align: top;\n",
       "    }\n",
       "\n",
       "    .dataframe thead th {\n",
       "        text-align: right;\n",
       "    }\n",
       "</style>\n",
       "<table border=\"1\" class=\"dataframe\">\n",
       "  <thead>\n",
       "    <tr style=\"text-align: right;\">\n",
       "      <th></th>\n",
       "      <th>userId</th>\n",
       "      <th>dateActivity</th>\n",
       "      <th>abTestGroup</th>\n",
       "      <th>platform</th>\n",
       "      <th>countryCode</th>\n",
       "      <th>products</th>\n",
       "      <th>total_cost</th>\n",
       "      <th>goldengoal_purchases</th>\n",
       "      <th>goldengoal_revenue</th>\n",
       "    </tr>\n",
       "  </thead>\n",
       "  <tbody>\n",
       "  </tbody>\n",
       "</table>\n",
       "</div>"
      ],
      "text/plain": [
       "Empty DataFrame\n",
       "Columns: [userId, dateActivity, abTestGroup, platform, countryCode, products, total_cost, goldengoal_purchases, goldengoal_revenue]\n",
       "Index: []"
      ]
     },
     "execution_count": 24,
     "metadata": {},
     "output_type": "execute_result"
    }
   ],
   "source": [
    "# Filtering the dataset for Test Group 1 users who bought both 'goldengoal' and 'goldengoalb' products\n",
    "df[\n",
    "    (df['abTestGroup'] == 'test_group_1') & \n",
    "    df['products'].apply(lambda x: 'goldengoal' in x and 'goldengoalb' in x if isinstance(x, list) else False)\n",
    "]"
   ]
  },
  {
   "cell_type": "markdown",
   "metadata": {},
   "source": [
    "There are no occurrences in Test Group 1 where users purchased both the \"goldengoal\" and \"goldengoalb\" products. This indicates that the instances where \"goldengoal\" was purchased in Test Group 1 do not overlap with purchases of \"goldengoalb\" further confirming our adjustment process."
   ]
  },
  {
   "cell_type": "markdown",
   "metadata": {},
   "source": [
    "<style>\n",
    ".anchor-tag {\n",
    "    display: block;\n",
    "    position: relative;\n",
    "    top: -100px;\n",
    "    visibility: hidden;\n",
    "}\n",
    "</style>\n",
    "\n",
    "<a id=\"dataframe-overview\" class=\"anchor-tag\"></a>\n",
    "<h2>Dataframe Overview</h2>"
   ]
  },
  {
   "cell_type": "code",
   "execution_count": 25,
   "metadata": {},
   "outputs": [
    {
     "data": {
      "text/html": [
       "<div>\n",
       "<style scoped>\n",
       "    .dataframe tbody tr th:only-of-type {\n",
       "        vertical-align: middle;\n",
       "    }\n",
       "\n",
       "    .dataframe tbody tr th {\n",
       "        vertical-align: top;\n",
       "    }\n",
       "\n",
       "    .dataframe thead th {\n",
       "        text-align: right;\n",
       "    }\n",
       "</style>\n",
       "<table border=\"1\" class=\"dataframe\">\n",
       "  <thead>\n",
       "    <tr style=\"text-align: right;\">\n",
       "      <th></th>\n",
       "      <th>userId</th>\n",
       "      <th>dateActivity</th>\n",
       "      <th>abTestGroup</th>\n",
       "      <th>platform</th>\n",
       "      <th>countryCode</th>\n",
       "      <th>products</th>\n",
       "      <th>total_cost</th>\n",
       "      <th>goldengoal_purchases</th>\n",
       "      <th>goldengoal_revenue</th>\n",
       "    </tr>\n",
       "  </thead>\n",
       "  <tbody>\n",
       "    <tr>\n",
       "      <th>0</th>\n",
       "      <td>001e5d3vldrvz6b</td>\n",
       "      <td>2019-12-02</td>\n",
       "      <td>control_group</td>\n",
       "      <td>iOS</td>\n",
       "      <td>US</td>\n",
       "      <td>NaN</td>\n",
       "      <td>NaN</td>\n",
       "      <td>0</td>\n",
       "      <td>0.0</td>\n",
       "    </tr>\n",
       "    <tr>\n",
       "      <th>1</th>\n",
       "      <td>001e5d3vldrvz6b</td>\n",
       "      <td>2019-12-03</td>\n",
       "      <td>control_group</td>\n",
       "      <td>iOS</td>\n",
       "      <td>US</td>\n",
       "      <td>NaN</td>\n",
       "      <td>NaN</td>\n",
       "      <td>0</td>\n",
       "      <td>0.0</td>\n",
       "    </tr>\n",
       "    <tr>\n",
       "      <th>2</th>\n",
       "      <td>001e5d3vldrvz6b</td>\n",
       "      <td>2019-12-04</td>\n",
       "      <td>control_group</td>\n",
       "      <td>iOS</td>\n",
       "      <td>US</td>\n",
       "      <td>NaN</td>\n",
       "      <td>NaN</td>\n",
       "      <td>0</td>\n",
       "      <td>0.0</td>\n",
       "    </tr>\n",
       "    <tr>\n",
       "      <th>3</th>\n",
       "      <td>001e5d3vldrvz6b</td>\n",
       "      <td>2019-12-05</td>\n",
       "      <td>control_group</td>\n",
       "      <td>iOS</td>\n",
       "      <td>US</td>\n",
       "      <td>NaN</td>\n",
       "      <td>NaN</td>\n",
       "      <td>0</td>\n",
       "      <td>0.0</td>\n",
       "    </tr>\n",
       "    <tr>\n",
       "      <th>4</th>\n",
       "      <td>001e5d3vldrvz6b</td>\n",
       "      <td>2019-12-06</td>\n",
       "      <td>control_group</td>\n",
       "      <td>iOS</td>\n",
       "      <td>US</td>\n",
       "      <td>NaN</td>\n",
       "      <td>NaN</td>\n",
       "      <td>0</td>\n",
       "      <td>0.0</td>\n",
       "    </tr>\n",
       "  </tbody>\n",
       "</table>\n",
       "</div>"
      ],
      "text/plain": [
       "            userId dateActivity    abTestGroup platform countryCode products  \\\n",
       "0  001e5d3vldrvz6b   2019-12-02  control_group      iOS          US      NaN   \n",
       "1  001e5d3vldrvz6b   2019-12-03  control_group      iOS          US      NaN   \n",
       "2  001e5d3vldrvz6b   2019-12-04  control_group      iOS          US      NaN   \n",
       "3  001e5d3vldrvz6b   2019-12-05  control_group      iOS          US      NaN   \n",
       "4  001e5d3vldrvz6b   2019-12-06  control_group      iOS          US      NaN   \n",
       "\n",
       "   total_cost  goldengoal_purchases  goldengoal_revenue  \n",
       "0         NaN                     0                 0.0  \n",
       "1         NaN                     0                 0.0  \n",
       "2         NaN                     0                 0.0  \n",
       "3         NaN                     0                 0.0  \n",
       "4         NaN                     0                 0.0  "
      ]
     },
     "execution_count": 25,
     "metadata": {},
     "output_type": "execute_result"
    }
   ],
   "source": [
    "# Checking the dataframe\n",
    "df.head()"
   ]
  },
  {
   "cell_type": "markdown",
   "metadata": {},
   "source": [
    "This dataset shows each user's daily activity along with information about their interaction with the Golden Goal IAP."
   ]
  },
  {
   "cell_type": "markdown",
   "metadata": {},
   "source": [
    "<style>\n",
    ".anchor-tag {\n",
    "    display: block;\n",
    "    position: relative;\n",
    "    top: -100px;\n",
    "    visibility: hidden;\n",
    "}\n",
    "</style>\n",
    "\n",
    "<a id=\"exploratory-data-analysis\" class=\"anchor-tag\"></a>\n",
    "<h1>Exploratory Data Analysis</h1>"
   ]
  },
  {
   "cell_type": "markdown",
   "metadata": {},
   "source": [
    "<style>\n",
    ".anchor-tag {\n",
    "    display: block;\n",
    "    position: relative;\n",
    "    top: -100px;\n",
    "    visibility: hidden;\n",
    "}\n",
    "</style>\n",
    "\n",
    "<a id=\"user-engagement\" class=\"anchor-tag\"></a>\n",
    "<h2>User Engagement</h2>"
   ]
  },
  {
   "cell_type": "code",
   "execution_count": 26,
   "metadata": {},
   "outputs": [
    {
     "data": {
      "text/html": [
       "<div>\n",
       "<style scoped>\n",
       "    .dataframe tbody tr th:only-of-type {\n",
       "        vertical-align: middle;\n",
       "    }\n",
       "\n",
       "    .dataframe tbody tr th {\n",
       "        vertical-align: top;\n",
       "    }\n",
       "\n",
       "    .dataframe thead th {\n",
       "        text-align: right;\n",
       "    }\n",
       "</style>\n",
       "<table border=\"1\" class=\"dataframe\">\n",
       "  <thead>\n",
       "    <tr style=\"text-align: right;\">\n",
       "      <th></th>\n",
       "      <th>dateActivity</th>\n",
       "      <th>abTestGroup</th>\n",
       "      <th>DAU</th>\n",
       "    </tr>\n",
       "  </thead>\n",
       "  <tbody>\n",
       "    <tr>\n",
       "      <th>0</th>\n",
       "      <td>2019-12-02</td>\n",
       "      <td>control_group</td>\n",
       "      <td>6510</td>\n",
       "    </tr>\n",
       "    <tr>\n",
       "      <th>1</th>\n",
       "      <td>2019-12-02</td>\n",
       "      <td>test_group_1</td>\n",
       "      <td>6571</td>\n",
       "    </tr>\n",
       "    <tr>\n",
       "      <th>2</th>\n",
       "      <td>2019-12-02</td>\n",
       "      <td>test_group_2</td>\n",
       "      <td>6456</td>\n",
       "    </tr>\n",
       "    <tr>\n",
       "      <th>3</th>\n",
       "      <td>2019-12-03</td>\n",
       "      <td>control_group</td>\n",
       "      <td>6594</td>\n",
       "    </tr>\n",
       "    <tr>\n",
       "      <th>4</th>\n",
       "      <td>2019-12-03</td>\n",
       "      <td>test_group_1</td>\n",
       "      <td>6799</td>\n",
       "    </tr>\n",
       "  </tbody>\n",
       "</table>\n",
       "</div>"
      ],
      "text/plain": [
       "  dateActivity    abTestGroup   DAU\n",
       "0   2019-12-02  control_group  6510\n",
       "1   2019-12-02   test_group_1  6571\n",
       "2   2019-12-02   test_group_2  6456\n",
       "3   2019-12-03  control_group  6594\n",
       "4   2019-12-03   test_group_1  6799"
      ]
     },
     "execution_count": 26,
     "metadata": {},
     "output_type": "execute_result"
    }
   ],
   "source": [
    "# Calculating DAU (Daily Active Users) for each group\n",
    "dau = df.groupby(['dateActivity', 'abTestGroup'])['userId'].nunique().reset_index()\n",
    "dau.columns = ['dateActivity', 'abTestGroup', 'DAU']\n",
    "\n",
    "dau.head()"
   ]
  },
  {
   "cell_type": "code",
   "execution_count": 27,
   "metadata": {},
   "outputs": [
    {
     "data": {
      "image/png": "[encoded data removed]",
      "text/plain": [
       "<Figure size 720x432 with 1 Axes>"
      ]
     },
     "metadata": {
      "needs_background": "light"
     },
     "output_type": "display_data"
    }
   ],
   "source": [
    "# Plotting DAU \n",
    "plt.figure(figsize=(10, 6))\n",
    "sns.lineplot(\n",
    "    x='dateActivity', \n",
    "    y='DAU', \n",
    "    hue='abTestGroup', \n",
    "    data=dau\n",
    ")\n",
    "plt.grid(True)\n",
    "plt.xticks(rotation=45)\n",
    "plt.title('User Engagement')\n",
    "plt.xlabel('Date')\n",
    "plt.ylabel('Daily Active Users (DAU)')\n",
    "plt.show()"
   ]
  },
  {
   "cell_type": "markdown",
   "metadata": {},
   "source": [
    "The control group displays steady growth, suggesting stable user engagement without any intervention. Test Group 1 sees significant growth, especially towards the end of the period, indicating the reduced price may have positively influenced user activity. Test Group 2 initially matches the control group but then diverges, showing a different pattern of engagement which could be due to the double rewards offered. These trends indicate that pricing and reward strategies can impact user engagement, with Test Group 1's reduced price strategy seemingly the most effective in this interval."
   ]
  },
  {
   "cell_type": "markdown",
   "metadata": {},
   "source": [
    "<style>\n",
    ".anchor-tag {\n",
    "    display: block;\n",
    "    position: relative;\n",
    "    top: -100px;\n",
    "    visibility: hidden;\n",
    "}\n",
    "</style>\n",
    "\n",
    "<a id=\"purchasing-behavior\" class=\"anchor-tag\"></a>\n",
    "<h2>Purchasing Behavior</h2>"
   ]
  },
  {
   "cell_type": "markdown",
   "metadata": {},
   "source": [
    "Since the goal of the analysis is to understand the performance of the Golden Goal IAP across different strategies, we will focus primarily on this product."
   ]
  },
  {
   "cell_type": "code",
   "execution_count": 28,
   "metadata": {},
   "outputs": [
    {
     "data": {
      "image/png": "[encoded data removed]",
      "text/plain": [
       "<Figure size 864x432 with 1 Axes>"
      ]
     },
     "metadata": {
      "needs_background": "light"
     },
     "output_type": "display_data"
    }
   ],
   "source": [
    "# Calculating the daily number of purchases of the Golden Goal product by the testing group\n",
    "daily_purchases = df.groupby(['dateActivity', 'abTestGroup'])['goldengoal_purchases'].sum().reset_index(name='Number of Purchases')\n",
    "\n",
    "# Visualizing Daily Number of Purchases\n",
    "plt.figure(figsize=(12, 6))\n",
    "sns.lineplot(data=daily_purchases, x='dateActivity', y='Number of Purchases', hue='abTestGroup')\n",
    "plt.grid(True)\n",
    "plt.xticks(rotation=45)\n",
    "plt.title('Purchase Trends of Golden Goal IAP')\n",
    "plt.xlabel('Date')\n",
    "plt.ylabel('Number of Purchases')\n",
    "plt.show()"
   ]
  },
  {
   "cell_type": "code",
   "execution_count": 29,
   "metadata": {},
   "outputs": [
    {
     "data": {
      "image/png": "[encoded data removed]",
      "text/plain": [
       "<Figure size 720x432 with 1 Axes>"
      ]
     },
     "metadata": {
      "needs_background": "light"
     },
     "output_type": "display_data"
    }
   ],
   "source": [
    "# Calculating Total Purchases by the testing group\n",
    "total_purchases = df.groupby('abTestGroup')['goldengoal_purchases'].sum().reset_index(name='Total Purchases')\n",
    "\n",
    "# Visualizing Sales Volume\n",
    "plt.figure(figsize=(10, 6))\n",
    "bar_plot = sns.barplot(data=total_purchases, x='abTestGroup', y='Total Purchases', color='steelblue')\n",
    "plt.title('Sales Volume')\n",
    "plt.xlabel('Testing Group')\n",
    "plt.ylabel('')\n",
    "max_value = total_purchases['Total Purchases'].max()\n",
    "plt.ylim(0, max_value * 1.3)\n",
    "\n",
    "# Adding the text on top of each bar\n",
    "for index, value in enumerate(total_purchases['Total Purchases']):\n",
    "    bar_plot.text(index, value, f'{value:,.2f}', color='black', ha=\"center\", va=\"bottom\", fontsize=14)\n",
    "\n",
    "plt.show()"
   ]
  },
  {
   "cell_type": "markdown",
   "metadata": {},
   "source": [
    "Control Group is consistently the lowest in terms of daily purchases, indicating that the standard offering does not generate as many purchases as the test conditions. Test Group 1 (Reduced Price) shows a significant increase in the number of daily purchases compared to the control group. This suggests that the reduced price strategy effectively encourages more users to make purchases. Test Group 2 (Double Rewards) group surpasses the control group in daily purchases. However, the double rewards strategy does not perform better than the reduced price strategy\""
   ]
  },
  {
   "cell_type": "code",
   "execution_count": 30,
   "metadata": {},
   "outputs": [
    {
     "data": {
      "image/png": "[encoded data removed]",
      "text/plain": [
       "<Figure size 720x432 with 1 Axes>"
      ]
     },
     "metadata": {
      "needs_background": "light"
     },
     "output_type": "display_data"
    }
   ],
   "source": [
    "# Calculating Total Revenue by the testing group\n",
    "total_revenue = df.groupby('abTestGroup')['goldengoal_revenue'].sum().reset_index(name='Total Revenue')\n",
    "\n",
    "# Visualizing Revenue Generated\n",
    "plt.figure(figsize=(10, 6))\n",
    "bar_plot = sns.barplot(data=total_revenue, x='abTestGroup', y='Total Revenue', color='steelblue')\n",
    "plt.title('Revenue Generated')\n",
    "plt.xlabel('Testing Group')\n",
    "plt.ylabel('Total Revenue ($)')\n",
    "max_value = total_revenue['Total Revenue'].max()\n",
    "plt.ylim(0, max_value * 1.3)\n",
    "\n",
    "# Adding the text on top of each bar\n",
    "for index, value in enumerate(total_revenue['Total Revenue']):\n",
    "    bar_plot.text(index, value, f'${value:,.2f}', color='black', ha=\"center\", va=\"bottom\", fontsize=14)\n",
    "\n",
    "plt.show()"
   ]
  },
  {
   "cell_type": "markdown",
   "metadata": {},
   "source": [
    "Control Group generated the least revenue, which aligns with the lower number of daily purchases. Test Group 1 (Reduced Price) shows that despite the increased number of purchases, the total revenue is less than Test Group 2, likely due to the reduced price per purchase. Test Group 2 (Double Rewards) generated the highest revenue and this suggests that the double rewards strategy, despite not reducing the price, is more effective at increasing overall revenue. This could be due to a higher perceived value or greater appeal of the reward, encouraging more users to purchase at the standard price."
   ]
  },
  {
   "cell_type": "code",
   "execution_count": 31,
   "metadata": {},
   "outputs": [
    {
     "data": {
      "text/html": [
       "<div>\n",
       "<style scoped>\n",
       "    .dataframe tbody tr th:only-of-type {\n",
       "        vertical-align: middle;\n",
       "    }\n",
       "\n",
       "    .dataframe tbody tr th {\n",
       "        vertical-align: top;\n",
       "    }\n",
       "\n",
       "    .dataframe thead th {\n",
       "        text-align: right;\n",
       "    }\n",
       "</style>\n",
       "<table border=\"1\" class=\"dataframe\">\n",
       "  <thead>\n",
       "    <tr style=\"text-align: right;\">\n",
       "      <th></th>\n",
       "      <th>dateActivity</th>\n",
       "      <th>abTestGroup</th>\n",
       "      <th>goldengoal_revenue</th>\n",
       "      <th>DAU</th>\n",
       "      <th>ARPDAU</th>\n",
       "    </tr>\n",
       "  </thead>\n",
       "  <tbody>\n",
       "    <tr>\n",
       "      <th>0</th>\n",
       "      <td>2019-12-02</td>\n",
       "      <td>control_group</td>\n",
       "      <td>53.73</td>\n",
       "      <td>6510</td>\n",
       "      <td>0.008253</td>\n",
       "    </tr>\n",
       "    <tr>\n",
       "      <th>1</th>\n",
       "      <td>2019-12-02</td>\n",
       "      <td>test_group_1</td>\n",
       "      <td>121.77</td>\n",
       "      <td>6571</td>\n",
       "      <td>0.018531</td>\n",
       "    </tr>\n",
       "    <tr>\n",
       "      <th>2</th>\n",
       "      <td>2019-12-02</td>\n",
       "      <td>test_group_2</td>\n",
       "      <td>109.45</td>\n",
       "      <td>6456</td>\n",
       "      <td>0.016953</td>\n",
       "    </tr>\n",
       "    <tr>\n",
       "      <th>3</th>\n",
       "      <td>2019-12-03</td>\n",
       "      <td>control_group</td>\n",
       "      <td>67.66</td>\n",
       "      <td>6594</td>\n",
       "      <td>0.010261</td>\n",
       "    </tr>\n",
       "    <tr>\n",
       "      <th>4</th>\n",
       "      <td>2019-12-03</td>\n",
       "      <td>test_group_1</td>\n",
       "      <td>106.92</td>\n",
       "      <td>6799</td>\n",
       "      <td>0.015726</td>\n",
       "    </tr>\n",
       "  </tbody>\n",
       "</table>\n",
       "</div>"
      ],
      "text/plain": [
       "  dateActivity    abTestGroup  goldengoal_revenue   DAU    ARPDAU\n",
       "0   2019-12-02  control_group               53.73  6510  0.008253\n",
       "1   2019-12-02   test_group_1              121.77  6571  0.018531\n",
       "2   2019-12-02   test_group_2              109.45  6456  0.016953\n",
       "3   2019-12-03  control_group               67.66  6594  0.010261\n",
       "4   2019-12-03   test_group_1              106.92  6799  0.015726"
      ]
     },
     "execution_count": 31,
     "metadata": {},
     "output_type": "execute_result"
    }
   ],
   "source": [
    "# Calculating daily revenue\n",
    "daily_revenue = df.groupby(['dateActivity', 'abTestGroup'])['goldengoal_revenue'].sum()\n",
    "\n",
    "# Merging daily revenue with DAU data\n",
    "arpdau_df = pd.merge(daily_revenue, dau, on=['dateActivity', 'abTestGroup'])\n",
    "\n",
    "# Calculating ARPDAU (Average Revenue per Daily Active User)\n",
    "arpdau_df['ARPDAU'] = arpdau_df['goldengoal_revenue'] / arpdau_df['DAU']\n",
    "\n",
    "# Displaying the ARPDAU data\n",
    "arpdau_df.head()\n"
   ]
  },
  {
   "cell_type": "code",
   "execution_count": 32,
   "metadata": {},
   "outputs": [
    {
     "data": {
      "image/png": "[encoded data removed]",
      "text/plain": [
       "<Figure size 864x432 with 1 Axes>"
      ]
     },
     "metadata": {
      "needs_background": "light"
     },
     "output_type": "display_data"
    }
   ],
   "source": [
    "# Plotting ARPDAU by Test Group\n",
    "plt.figure(figsize=(12, 6))\n",
    "sns.lineplot(data=arpdau_df, x='dateActivity', y='ARPDAU', hue='abTestGroup')\n",
    "plt.grid(True)\n",
    "plt.xticks(rotation=45)\n",
    "plt.title('Average Revenue Per Daily Active User (Golden Goal IAP)')\n",
    "plt.xlabel('Date')\n",
    "plt.ylabel('ARPDAU ($)')\n",
    "plt.show()"
   ]
  },
  {
   "cell_type": "markdown",
   "metadata": {},
   "source": [
    "The ARPDAU for the control group, which did not receive any price or reward changes, remains the lowest across the observed period. It shows some fluctuations but maintains a relatively consistent trend, staying below the $0.02 mark. The reduced price strategy for the \"Golden Goal\" product, shows a higher ARPDAU than the control group, indicating that the reduced price may have encouraged more purchases or higher spending per active user. The ARPDAU for this group fluctuates and generally trends upward towards the end of the period, indicating that the strategy may have gained traction as time went on. Exhibiting the highest ARPDAU of all three groups, test group 2's double rewards strategy seems to be the most effective in terms of revenue per user. The ARPDAU for this group shows significant variability, with notable peaks, suggesting that on certain days, the strategy was particularly effective."
   ]
  },
  {
   "cell_type": "markdown",
   "metadata": {},
   "source": [
    "<style>\n",
    ".anchor-tag {\n",
    "    display: block;\n",
    "    position: relative;\n",
    "    top: -100px;\n",
    "    visibility: hidden;\n",
    "}\n",
    "</style>\n",
    "\n",
    "<a id=\"statistical-analysis\" class=\"anchor-tag\"></a>\n",
    "<h1>Statistical Analysis</h1>"
   ]
  },
  {
   "cell_type": "markdown",
   "metadata": {},
   "source": [
    "We will conduct the statistical analysis based on the ARPDAU metric since it is a comprehensive metric that combines aspects of revenue and user engagement. Given that there are three groups testing groups, the statistical method used should be Analysis of Variance (ANOVA) because it is capable of comparing means across more than two independent groups. In this context, a one-way ANOVA test should be used to determine whether there are any statistically significant differences between the means of the three testing groups.\n",
    "\n",
    "We will test the following hypothesis:\n",
    "\n",
    "H0: The means of ARPDAU are the same across all groups\n",
    "\n",
    "H1: At least one group's mean of ARPDAU is different from the others"
   ]
  },
  {
   "cell_type": "code",
   "execution_count": 33,
   "metadata": {},
   "outputs": [
    {
     "data": {
      "text/plain": [
       "({'control_group': 0.0612400621175766,\n",
       "  'test_group_1': 0.5727487206459045,\n",
       "  'test_group_2': 0.8645438551902771},\n",
       " LeveneResult(statistic=4.768518958382151, pvalue=0.014038835706510093))"
      ]
     },
     "execution_count": 33,
     "metadata": {},
     "output_type": "execute_result"
    }
   ],
   "source": [
    "# First, we need to check if the assumptions for ANOVA are met\n",
    "# Checking normality for ARPDAU in each group\n",
    "normality_test_results = {}\n",
    "for group in arpdau_df['abTestGroup'].unique():\n",
    "    group_data = arpdau_df[arpdau_df['abTestGroup'] == group]['ARPDAU']\n",
    "    stat, p = stats.shapiro(group_data)\n",
    "    normality_test_results[group] = p\n",
    "\n",
    "# Checking homogeneity of variances\n",
    "levene_result = levene(\n",
    "    arpdau_df[arpdau_df['abTestGroup'] == 'control_group']['ARPDAU'],\n",
    "    arpdau_df[arpdau_df['abTestGroup'] == 'test_group_1']['ARPDAU'],\n",
    "    arpdau_df[arpdau_df['abTestGroup'] == 'test_group_2']['ARPDAU']\n",
    ")\n",
    "\n",
    "normality_test_results, levene_result"
   ]
  },
  {
   "cell_type": "markdown",
   "metadata": {},
   "source": [
    "Before conducting the ANOVA test we need to check if the normality and homogeneity assumptions for ANOVA are met. \n",
    "\n",
    "Normality assumption: Since the p-values are greater than 0.05, we fail to reject the null hypothesis of normality for all groups. This suggests that the ARPDAU data for each group follows a normal distribution. \n",
    "\n",
    "Homogeneity assumption: Although the p-value is less than 0.05, indicating that the variances of the groups are not equal (violating the homogeneity assumption), ANOVA is robust to this violation, especially with equal or similar sample sizes. Thus, we can proceed with the ANOVA one-way test."
   ]
  },
  {
   "cell_type": "markdown",
   "metadata": {},
   "source": [
    "If we have enough evidence to reject the null hypothesis that there is no difference in ARPDAU across the groups based on ANOVA results, we will need to perform post-hoc tests to identify which specific group pairs have significant differences in ARPDAU. Thus, Tukey's HSD analysis will provide a clearer understanding of how each test group's ARPDAU compares to the others."
   ]
  },
  {
   "cell_type": "code",
   "execution_count": 34,
   "metadata": {},
   "outputs": [
    {
     "data": {
      "text/plain": [
       "(F_onewayResult(statistic=46.40616243347265, pvalue=4.859789360684345e-11),\n",
       " <statsmodels.sandbox.stats.multicomp.TukeyHSDResults at 0x200b48370a0>)"
      ]
     },
     "execution_count": 34,
     "metadata": {},
     "output_type": "execute_result"
    }
   ],
   "source": [
    "# Conducting one-way ANOVA test\n",
    "anova_result = stats.f_oneway(\n",
    "    arpdau_df[arpdau_df['abTestGroup'] == 'control_group']['ARPDAU'],\n",
    "    arpdau_df[arpdau_df['abTestGroup'] == 'test_group_1']['ARPDAU'],\n",
    "    arpdau_df[arpdau_df['abTestGroup'] == 'test_group_2']['ARPDAU']\n",
    ")\n",
    "\n",
    "# If ANOVA test shows significant differences, proceed with Tukey's HSD post-hoc test\n",
    "if anova_result.pvalue < 0.05:\n",
    "    tukey_result = pairwise_tukeyhsd(endog=arpdau_df['ARPDAU'], groups=arpdau_df['abTestGroup'], alpha=0.05)\n",
    "else:\n",
    "    tukey_result = \"ANOVA test did not show significant differences, so post-hoc test is not required.\"\n",
    "\n",
    "anova_result, tukey_result"
   ]
  },
  {
   "cell_type": "markdown",
   "metadata": {},
   "source": [
    "The p-value is significantly less than 0.05, indicating strong evidence against the null hypothesis (there are significant differences in ARPDAU among the three groups). Thus, we proceeded with Tukey's HSD post-hoc test to determine which specific groups differ from each other."
   ]
  },
  {
   "cell_type": "code",
   "execution_count": 35,
   "metadata": {},
   "outputs": [
    {
     "data": {
      "text/html": [
       "<table class=\"simpletable\">\n",
       "<caption>Multiple Comparison of Means - Tukey HSD, FWER=0.05</caption>\n",
       "<tr>\n",
       "     <th>group1</th>        <th>group2</th>    <th>meandiff</th>  <th>p-adj</th>  <th>lower</th>  <th>upper</th> <th>reject</th>\n",
       "</tr>\n",
       "<tr>\n",
       "  <td>control_group</td> <td>test_group_1</td>   <td>0.01</td>     <td>0.0</td>  <td>0.0061</td> <td>0.0139</td>  <td>True</td> \n",
       "</tr>\n",
       "<tr>\n",
       "  <td>control_group</td> <td>test_group_2</td>  <td>0.0152</td>    <td>0.0</td>  <td>0.0113</td> <td>0.0191</td>  <td>True</td> \n",
       "</tr>\n",
       "<tr>\n",
       "  <td>test_group_1</td>  <td>test_group_2</td>  <td>0.0052</td>  <td>0.0069</td> <td>0.0013</td> <td>0.0091</td>  <td>True</td> \n",
       "</tr>\n",
       "</table>"
      ],
      "text/plain": [
       "<class 'statsmodels.iolib.table.SimpleTable'>"
      ]
     },
     "execution_count": 35,
     "metadata": {},
     "output_type": "execute_result"
    }
   ],
   "source": [
    "# Displaying the results of Tukey's HSD post-hoc test\n",
    "tukey_result.summary()"
   ]
  },
  {
   "cell_type": "markdown",
   "metadata": {},
   "source": [
    "Control Group vs Test Group 1: There is a statistically significant difference in ARPDAU between the control group and test group 1. The ARPDAU for test group 1 is higher than that of the control group.\n",
    "\n",
    "Control Group vs Test Group 2: There is a statistically significant difference in ARPDAU between the control group and test group 2. The ARPDAU for test group 2 is higher than that of the control group.\n",
    "\n",
    "Test Group 1 vs Test Group 2: There is a statistically significant difference in ARPDAU between test group 1 and test group 2. The ARPDAU for test group 2 is higher than that of test group 1.\n",
    "\n",
    "In brief, all three test groups significantly differ from each other in terms of ARPDAU. Specifically, test group 2 shows the highest ARPDAU, followed by test group 1, and then the control group. This suggests that the strategies implemented in test groups 1 and 2 are more effective in increasing ARPDAU compared to the control group, with test group 2 being the most effective."
   ]
  },
  {
   "cell_type": "markdown",
   "metadata": {},
   "source": [
    "<style>\n",
    ".anchor-tag {\n",
    "    display: block;\n",
    "    position: relative;\n",
    "    top: -100px;\n",
    "    visibility: hidden;\n",
    "}\n",
    "</style>\n",
    "\n",
    "<a id=\"summary-of-results\" class=\"anchor-tag\"></a>\n",
    "<h1>Summary of the Results</h1>"
   ]
  },
  {
   "cell_type": "markdown",
   "metadata": {},
   "source": [
    "After conducting a throughout analysis of the A/B testing data of the Golden Goal IAP, it is recommended to choose the regular price and double rewards strategy to improve the monetisation. The effects of the double rewards strategy are demonstrated in the user engagement trends across the 14-day duration, the revenue generated during the duration of the experiment, and the Average Revenue generated Per Daily Active User (ARPDAU metric). This recommendation is also supported by the results of the statistical analysis conducted on the key metric ARPDAU that combines aspects of both user engagement and monetisation. The results indicated statistical significance between testing groups when compared to each other, concluding that the double rewards strategy outperformed the reduced price group and the initial (regular price and regular rewards) group."
   ]
  }
 ],
 "metadata": {
  "kernelspec": {
   "display_name": "Python 3",
   "language": "python",
   "name": "python3"
  },
  "language_info": {
   "codemirror_mode": {
    "name": "ipython",
    "version": 3
   },
   "file_extension": ".py",
   "mimetype": "text/x-python",
   "name": "python",
   "nbconvert_exporter": "python",
   "pygments_lexer": "ipython3",
   "version": "3.8.8"
  }
 },
 "nbformat": 4,
 "nbformat_minor": 2
}
